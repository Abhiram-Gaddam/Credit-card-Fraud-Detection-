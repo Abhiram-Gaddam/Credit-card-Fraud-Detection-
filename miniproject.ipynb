{
 "cells": [
  {
   "cell_type": "markdown",
   "metadata": {},
   "source": [
    "Install and Import Libraries"
   ]
  },
  {
   "cell_type": "code",
   "execution_count": null,
   "metadata": {
    "vscode": {
     "languageId": "plaintext"
    }
   },
   "outputs": [],
   "source": [
    "\n",
    "!pip install pyngrok\n",
    "!pip install xgboost\n",
    "\n",
    "\n",
    "import pandas as pd\n",
    "import os\n",
    "import numpy as np\n",
    "from sklearn.ensemble import IsolationForest\n",
    "from imblearn.over_sampling import ADASYN\n",
    "from sklearn.model_selection import train_test_split\n",
    "from xgboost import XGBClassifier\n",
    "from sklearn.metrics import (\n",
    "    classification_report, accuracy_score, confusion_matrix,\n",
    "    roc_curve, roc_auc_score, precision_recall_curve, average_precision_score\n",
    ")\n",
    "import matplotlib.pyplot as plt\n",
    "import seaborn as sns\n",
    "from flask import Flask, request, render_template_string\n",
    "import pickle\n",
    "from pyngrok import ngrok\n",
    "\n",
    "# Set configurations\n",
    "plt.rcParams['figure.figsize'] = (14, 8)\n",
    "RANDOM_SEED = 42\n",
    "LABELS = [\"Normal\", \"Fraud\"]\n"
   ]
  },
  {
   "cell_type": "markdown",
   "metadata": {},
   "source": [
    "Data Loading and Preprocessing"
   ]
  },
  {
   "cell_type": "code",
   "execution_count": null,
   "metadata": {
    "vscode": {
     "languageId": "plaintext"
    }
   },
   "outputs": [],
   "source": [
    "# Load dataset\n",
    "data = pd.read_csv('creditcard.csv')\n",
    "\n",
    "# Drop unnecessary columns\n",
    "data.drop(['Time', 'Amount'], axis=1, inplace=True)\n",
    "\n",
    "# Separate features and target\n",
    "X = data.drop('Class', axis=1)\n",
    "Y = data['Class']\n"
   ]
  },
  {
   "cell_type": "markdown",
   "metadata": {},
   "source": [
    "Isolation Forest"
   ]
  },
  {
   "cell_type": "code",
   "execution_count": null,
   "metadata": {
    "vscode": {
     "languageId": "plaintext"
    }
   },
   "outputs": [],
   "source": [
    "# Apply Isolation Forest for anomaly detection\n",
    "iso_forest = IsolationForest(contamination=0.001, random_state=RANDOM_SEED)\n",
    "outliers = iso_forest.fit_predict(X)\n",
    "\n",
    "# Filter only \"inliers\"\n",
    "X_filtered = X[outliers == 1]\n",
    "Y_filtered = Y[outliers == 1]\n"
   ]
  },
  {
   "cell_type": "markdown",
   "metadata": {},
   "source": [
    "Handle Imbalance Using ADASYN"
   ]
  },
  {
   "cell_type": "code",
   "execution_count": null,
   "metadata": {
    "vscode": {
     "languageId": "plaintext"
    }
   },
   "outputs": [],
   "source": [
    "adasyn = ADASYN(random_state=RANDOM_SEED)\n",
    "X_resampled, Y_resampled = adasyn.fit_resample(X_filtered, Y_filtered)\n"
   ]
  },
  {
   "cell_type": "markdown",
   "metadata": {},
   "source": [
    "Train Test Split"
   ]
  },
  {
   "cell_type": "code",
   "execution_count": null,
   "metadata": {
    "vscode": {
     "languageId": "plaintext"
    }
   },
   "outputs": [],
   "source": [
    "X_train, X_test, Y_train, Y_test = train_test_split(\n",
    "    X_resampled, Y_resampled, test_size=0.2, random_state=RANDOM_SEED\n",
    ")\n"
   ]
  },
  {
   "cell_type": "markdown",
   "metadata": {},
   "source": [
    "XGBoost Classifier"
   ]
  },
  {
   "cell_type": "code",
   "execution_count": null,
   "metadata": {
    "vscode": {
     "languageId": "plaintext"
    }
   },
   "outputs": [],
   "source": [
    "xgb_model = XGBClassifier(\n",
    "    scale_pos_weight=(len(Y_train) - sum(Y_train)) / sum(Y_train),\n",
    "    learning_rate=0.1, n_estimators=100, max_depth=6,\n",
    "    min_child_weight=1, gamma=0.1, subsample=0.8,\n",
    "    colsample_bytree=0.8, objective='binary:logistic',\n",
    "    nthread=4, seed=RANDOM_SEED\n",
    ")\n",
    "\n",
    "xgb_model.fit(X_train, Y_train)\n"
   ]
  },
  {
   "cell_type": "markdown",
   "metadata": {},
   "source": [
    "Model Evaluation\n"
   ]
  },
  {
   "cell_type": "code",
   "execution_count": null,
   "metadata": {
    "vscode": {
     "languageId": "plaintext"
    }
   },
   "outputs": [],
   "source": [
    "# Predictions\n",
    "xgb_pred_test = xgb_model.predict(X_test)\n",
    "\n",
    "# Metrics\n",
    "print(\"Accuracy Score:\", accuracy_score(Y_test, xgb_pred_test))\n",
    "print(\"Classification Report:\")\n",
    "print(classification_report(Y_test, xgb_pred_test))\n",
    "\n",
    "# Confusion Matrix\n",
    "conf_matrix = confusion_matrix(Y_test, xgb_pred_test)\n",
    "plt.figure(figsize=(8, 6))\n",
    "sns.heatmap(conf_matrix, annot=True, fmt='d', cmap='Blues', xticklabels=LABELS, yticklabels=LABELS)\n",
    "plt.ylabel('Actual')\n",
    "plt.xlabel('Predicted')\n",
    "plt.title('Confusion Matrix')\n",
    "plt.show()\n",
    "\n",
    "# ROC-AUC Curve\n",
    "xgb_prob_test = xgb_model.predict_proba(X_test)[:, 1]\n",
    "fpr, tpr, _ = roc_curve(Y_test, xgb_prob_test)\n",
    "roc_auc = roc_auc_score(Y_test, xgb_prob_test)\n",
    "\n",
    "plt.figure()\n",
    "plt.plot(fpr, tpr, label=f'ROC Curve (AUC = {roc_auc:.2f})')\n",
    "plt.plot([0, 1], [0, 1], 'k--')\n",
    "plt.xlim([0.0, 1.0])\n",
    "plt.ylim([0.0, 1.0])\n",
    "plt.xlabel('False Positive Rate')\n",
    "plt.ylabel('True Positive Rate')\n",
    "plt.title('Receiver Operating Characteristic')\n",
    "plt.legend(loc='lower right')\n",
    "plt.show()\n"
   ]
  },
  {
   "cell_type": "markdown",
   "metadata": {},
   "source": [
    "Save and Load Model"
   ]
  },
  {
   "cell_type": "code",
   "execution_count": null,
   "metadata": {
    "vscode": {
     "languageId": "plaintext"
    }
   },
   "outputs": [],
   "source": [
    "# Save model\n",
    "with open('fraud_detection_model.pkl', 'wb') as model_file:\n",
    "    pickle.dump(xgb_model, model_file)\n",
    "\n",
    "# Load model\n",
    "model = pickle.load(open('fraud_detection_model.pkl', 'rb'))\n"
   ]
  },
  {
   "cell_type": "markdown",
   "metadata": {},
   "source": [
    "Flask App and Ngrok"
   ]
  },
  {
   "cell_type": "code",
   "execution_count": null,
   "metadata": {
    "vscode": {
     "languageId": "plaintext"
    }
   },
   "outputs": [],
   "source": [
    "# Flask app setup\n",
    "app = Flask(__name__)\n",
    "\n",
    "# Start Ngrok\n",
    "os.system(\"ngrok authtoken 2mpVF6OsdXTbQA3WLuVnGalmCq8_795t7vg8GTKdkR6R43QV2 \")\n",
    "\n",
    "public_url = ngrok.connect(8000)\n",
    "print(f\"Public URL: {public_url}\")\n",
    "\n",
    "@app.route('/')\n",
    "def home():\n",
    "    return render_template_string(\"\"\"\n",
    "    <!DOCTYPE html>\n",
    "    <html lang=\"en\">\n",
    "    <head>\n",
    "        <meta charset=\"UTF-8\">\n",
    "        <meta name=\"viewport\" content=\"width=device-width, initial-scale=1.0\">\n",
    "        <title>Fraud Detection</title>\n",
    "    </head>\n",
    "    <body>\n",
    "\n",
    "        <h2 style=\"display: flex;\n",
    "        justify-content: center;\n",
    "        font-size: 40px;\">Credit Card Fraud Detection</h2>\n",
    "        <div id=\"cnet\" ></div>\n",
    "        <form action=\"/predict\" method=\"post\" style=\"position: relative; left: 330px; top:50px\">\n",
    "            <label style=\"font: sans-serif;\n",
    "            font-size: 30px;\">Enter Transaction Data (comma-separated values):</label><br><br>\n",
    "            <input style=\"margin-left: 100px;\n",
    "            width: 300px;\n",
    "            height: 30px;\n",
    "            border-radius: 5px;\" id=\"inp\" type=\"text\" name=\"features\" placeholder=\"Enter values separated by commas\"><br><br>\n",
    "            <input style=\"width: 100px;\n",
    "            height: 20px;\n",
    "            border-radius: 5px;\n",
    "            margin-left: 200px;\" id=\"butt\" type=\"submit\" value=\"Check for Fraud\">\n",
    "        </form>\n",
    "    </div>\n",
    "\n",
    "        <!-- <h3 style=\"display: flex;\n",
    "        justify-content: center;\n",
    "        font-size: 50px;\n",
    "        color: red;\" ><br>Transaction is: {output}</h3> -->\n",
    "\n",
    "    </body>\n",
    "    </html>\n",
    "    \"\"\")\n",
    "\n",
    "@app.route('/predict', methods=['POST'])\n",
    "def predict():\n",
    "    features = request.form['features']\n",
    "    features_list = list(map(float, features.split(',')))\n",
    "    final_features = np.array(features_list).reshape(1, -1)\n",
    "    prediction = model.predict(final_features)\n",
    "\n",
    "    if prediction == 1:\n",
    "      output = 'Fraud'\n",
    "      return render_template_string(f'''\n",
    "    <!DOCTYPE html>\n",
    "    <html lang=\"en\">\n",
    "    <head>\n",
    "        <meta charset=\"UTF-8\">\n",
    "        <meta name=\"viewport\" content=\"width=device-width, initial-scale=1.0\">\n",
    "        <title>Fraud Detection</title>\n",
    "    </head>\n",
    "    <body>\n",
    "\n",
    "        <h2 style=\"display: flex;\n",
    "        justify-content: center;\n",
    "        font-size: 40px;\">Credit Card Fraud Detection</h2>\n",
    "        <div id=\"cnet\" ></div>\n",
    "        <form action=\"/predict\" method=\"post\" style=\"position: relative; left: 330px; top:50px\">\n",
    "            <label style=\"font: sans-serif;\n",
    "            font-size: 30px;\">Enter Transaction Data (comma-separated values):</label><br><br>\n",
    "            <input style=\"margin-left: 100px;\n",
    "            width: 300px;\n",
    "            height: 30px;\n",
    "            border-radius: 5px;\" id=\"inp\" type=\"text\" name=\"features\" placeholder=\"Enter values separated by commas\"><br><br>\n",
    "            <input style=\"width: 100px;\n",
    "            height: 20px;\n",
    "            border-radius: 5px;\n",
    "            margin-left: 200px;\" id=\"butt\" type=\"submit\" value=\"Check for Fraud\">\n",
    "        </form>\n",
    "    </div>\n",
    "\n",
    "        <h3 style=\"display: flex;\n",
    "        justify-content: center;\n",
    "        font-size: 50px;\n",
    "        color: red;\" ><br>Transaction is: {output}</h3>\n",
    "\n",
    "    </body>\n",
    "    </html>\n",
    "    ''')\n",
    "\n",
    "    else :\n",
    "      output='Not Fraud'\n",
    "      return render_template_string(f'''\n",
    "    <!DOCTYPE html>\n",
    "    <html lang=\"en\">\n",
    "    <head>\n",
    "        <meta charset=\"UTF-8\">\n",
    "        <meta name=\"viewport\" content=\"width=device-width, initial-scale=1.0\">\n",
    "        <title>Fraud Detection</title>\n",
    "    </head>\n",
    "    <body>\n",
    "\n",
    "        <h2 style=\"display: flex;\n",
    "        justify-content: center;\n",
    "        font-size: 40px;\">Credit Card Fraud Detection</h2>\n",
    "        <div id=\"cnet\" ></div>\n",
    "        <form action=\"/predict\" method=\"post\" style=\"position: relative; left: 330px; top:50px\">\n",
    "            <label style=\"font: sans-serif;\n",
    "            font-size: 30px;\">Enter Transaction Data (comma-separated values):</label><br><br>\n",
    "            <input style=\"margin-left: 100px;\n",
    "            width: 300px;\n",
    "            height: 30px;\n",
    "            border-radius: 5px;\" id=\"inp\" type=\"text\" name=\"features\" placeholder=\"Enter values separated by commas\"><br><br>\n",
    "            <input style=\"width: 100px;\n",
    "            height: 20px;\n",
    "            border-radius: 5px;\n",
    "            margin-left: 200px;\" id=\"butt\" type=\"submit\" value=\"Check for Fraud\">\n",
    "        </form>\n",
    "    </div>\n",
    "\n",
    "        <h3 style=\"display: flex;\n",
    "        justify-content: center;\n",
    "        font-size: 50px;\n",
    "        color: green;\" ><br>Transaction is: {output}</h3>\n",
    "\n",
    "    </body>\n",
    "    </html>\n",
    "    ''')\n",
    "\n",
    "if __name__ == '__main__':\n",
    "    app.run(port=8000)\n",
    "\n"
   ]
  }
 ],
 "metadata": {
  "language_info": {
   "name": "python"
  }
 },
 "nbformat": 4,
 "nbformat_minor": 2
}
